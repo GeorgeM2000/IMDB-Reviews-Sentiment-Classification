{
  "cells": [
    {
      "cell_type": "markdown",
      "metadata": {
        "id": "view-in-github",
        "colab_type": "text"
      },
      "source": [
        "<a href=\"https://colab.research.google.com/github/GeorgeM2000/IMDB-Reviews-Sentiment-Classification/blob/main/IMDB_Reviews_Sentiment_Analysis.ipynb\" target=\"_parent\"><img src=\"https://colab.research.google.com/assets/colab-badge.svg\" alt=\"Open In Colab\"/></a>"
      ]
    },
    {
      "cell_type": "markdown",
      "source": [
        "# Libraries"
      ],
      "metadata": {
        "id": "vqaQT425oVoU"
      }
    },
    {
      "cell_type": "code",
      "execution_count": null,
      "metadata": {
        "id": "jrps6xR1VnMT"
      },
      "outputs": [],
      "source": [
        "import numpy as np\n",
        "\n",
        "import tensorflow_datasets as tfds\n",
        "import tensorflow as tf\n",
        "\n",
        "tfds.disable_progress_bar()"
      ]
    },
    {
      "cell_type": "markdown",
      "metadata": {
        "id": "UuiZgsN7VsY0"
      },
      "source": [
        "Import matplotlib and create a helper function to plot graphs:"
      ]
    },
    {
      "cell_type": "code",
      "execution_count": null,
      "metadata": {
        "id": "o2vKG9w3Vqa0"
      },
      "outputs": [],
      "source": [
        "import matplotlib.pyplot as plt\n",
        "\n",
        "\n",
        "def plot_graphs(history, metric):\n",
        "  plt.plot(history.history[metric])\n",
        "  plt.plot(history.history['val_'+metric], '')\n",
        "  plt.xlabel(\"Epochs\")\n",
        "  plt.ylabel(metric)\n",
        "  plt.legend([metric, 'val_'+metric])"
      ]
    },
    {
      "cell_type": "markdown",
      "metadata": {
        "id": "TOuIwmf6Vw_X"
      },
      "source": [
        "# Setup input pipeline"
      ]
    },
    {
      "cell_type": "markdown",
      "metadata": {
        "id": "o3zgUhBEWIEo"
      },
      "source": [
        "Download the dataset using TFDS. I have kept the initial ratio of training, validation, and testing data."
      ]
    },
    {
      "cell_type": "code",
      "execution_count": null,
      "metadata": {
        "id": "cUpQ56WKVyoC",
        "colab": {
          "base_uri": "https://localhost:8080/"
        },
        "outputId": "97031d4f-d941-4b35-ea56-7611f409cc57"
      },
      "outputs": [
        {
          "output_type": "stream",
          "name": "stdout",
          "text": [
            "Downloading and preparing dataset 80.23 MiB (download: 80.23 MiB, generated: Unknown size, total: 80.23 MiB) to /root/tensorflow_datasets/imdb_reviews/plain_text/1.0.0...\n",
            "Dataset imdb_reviews downloaded and prepared to /root/tensorflow_datasets/imdb_reviews/plain_text/1.0.0. Subsequent calls will reuse this data.\n"
          ]
        }
      ],
      "source": [
        "train_dataset, validation_dataset, test_dataset = tfds.load(\n",
        "    name=\"imdb_reviews\",\n",
        "    split=('train[:60%]', 'train[60%:]', 'test'),\n",
        "    as_supervised=True)"
      ]
    },
    {
      "cell_type": "code",
      "execution_count": null,
      "metadata": {
        "id": "yoxWkAc1V3l7"
      },
      "outputs": [],
      "source": [
        "for example, label in train_dataset.take(5):\n",
        "  print('text: ', example.numpy())\n",
        "  print('label: ', label.numpy())"
      ]
    },
    {
      "cell_type": "markdown",
      "source": [
        "The original value for the \"VOCAB_SIZE\" is 1000. I have increased that value because a larger vocabulary size would allow the model to capture a more extensive range of words in the dataset. Also, the size of the vocabulary would affect the capacity of the embedding layer because a larger vocabulary size increases the number of parameters in the embedding layer."
      ],
      "metadata": {
        "id": "lJtmdBZr37YB"
      }
    },
    {
      "cell_type": "code",
      "source": [
        "BUFFER_SIZE = 10000\n",
        "BATCH_SIZE = 64\n",
        "VOCAB_SIZE = 8000 # Original: 1000, Model 1: 10000, Model 2: 5000"
      ],
      "metadata": {
        "id": "DAuG0CQzKfon"
      },
      "execution_count": null,
      "outputs": []
    },
    {
      "cell_type": "markdown",
      "source": [
        "Next shuffle the data for training and create batches of these (text, label) pairs:"
      ],
      "metadata": {
        "id": "850EWsSV34vr"
      }
    },
    {
      "cell_type": "code",
      "execution_count": null,
      "metadata": {
        "id": "oV60cLoIV6Hq"
      },
      "outputs": [],
      "source": [
        "train_dataset = train_dataset.shuffle(BUFFER_SIZE).batch(BATCH_SIZE).prefetch(tf.data.AUTOTUNE)\n",
        "validation_dataset = validation_dataset.batch(BATCH_SIZE).prefetch(tf.data.AUTOTUNE)\n",
        "test_dataset = test_dataset.batch(BATCH_SIZE).prefetch(tf.data.AUTOTUNE)"
      ]
    },
    {
      "cell_type": "code",
      "execution_count": null,
      "metadata": {
        "id": "8b2TO5CDWAmX"
      },
      "outputs": [],
      "source": [
        "for example, label in train_dataset.take(1):\n",
        "  print('texts: ', example.numpy()[:3])\n",
        "  print()\n",
        "  print('labels: ', label.numpy()[:3])"
      ]
    },
    {
      "cell_type": "markdown",
      "metadata": {
        "id": "5SQ1AfAjWLFa"
      },
      "source": [
        "# Create the text encoder"
      ]
    },
    {
      "cell_type": "code",
      "execution_count": null,
      "metadata": {
        "id": "aqzYrX8KWLMv"
      },
      "outputs": [],
      "source": [
        "encoder = tf.keras.layers.TextVectorization(\n",
        "    max_tokens=VOCAB_SIZE)\n",
        "encoder.adapt(train_dataset.map(lambda text, label: text))"
      ]
    },
    {
      "cell_type": "markdown",
      "metadata": {
        "id": "6a-eyaKyWYF-"
      },
      "source": [
        "The .adapt method sets the layer's vocabulary. Here are the first 20 tokens. After the padding and unknown tokens they're sorted by frequency:"
      ]
    },
    {
      "cell_type": "code",
      "execution_count": null,
      "metadata": {
        "id": "XToqOlvaWY56"
      },
      "outputs": [],
      "source": [
        "vocab = np.array(encoder.get_vocabulary())\n",
        "vocab[:20]"
      ]
    },
    {
      "cell_type": "markdown",
      "metadata": {
        "id": "qzY-9Q3OWhfZ"
      },
      "source": [
        "Once the vocabulary is set, the layer can encode text into indices. The tensors of indices are 0-padded to the longest sequence in the batch (unless you set a fixed output_sequence_length):"
      ]
    },
    {
      "cell_type": "code",
      "execution_count": null,
      "metadata": {
        "id": "0pZkoWXPWfJ9"
      },
      "outputs": [],
      "source": [
        "encoded_example = encoder(example)[:3].numpy()\n",
        "encoded_example"
      ]
    },
    {
      "cell_type": "markdown",
      "metadata": {
        "id": "m9i_YdsCW0gJ"
      },
      "source": [
        "# Model Creation\n"
      ]
    },
    {
      "cell_type": "markdown",
      "source": [
        "The original model, which i have modified, included the following architecture:\n",
        "\n",
        "- The encoder: the encoder is responsible for converting raw text into a numerical format that the neural network can process\n",
        "- An embedding layer: this layer helps the model learn meaningful representations for words\n",
        "- A bidirectional LSTM layer: LSTM layers process the input sequence (word embeddings) in both forward and backward directions\n",
        "- Two dense layers: these layers produce the output of the model, representing the probability of a review being positive or negative\n",
        "   \n",
        "In addition to the original architecture, i have added the following layers:\n",
        "\n",
        "- A GlobalMaxPooling1D Layer: this layer is added after the bidirectional LSTM layer to capture the most important features from the output sequence of the LSTM.\n",
        "- A Dropout layer: this layer helps prevent overfitting\n",
        "- A Dense layer with the sigmoid function: the sigmoid function is commonly used for binary classification models"
      ],
      "metadata": {
        "id": "W_dyWXO56XiN"
      }
    },
    {
      "cell_type": "code",
      "source": [
        "model = tf.keras.Sequential([\n",
        "    encoder,\n",
        "    tf.keras.layers.Embedding(input_dim=len(encoder.get_vocabulary()), output_dim=64, mask_zero=True),\n",
        "    tf.keras.layers.Bidirectional(tf.keras.layers.LSTM(64, return_sequences=True)),\n",
        "    tf.keras.layers.GlobalMaxPooling1D(),\n",
        "    tf.keras.layers.Dense(64, activation='relu'),\n",
        "    tf.keras.layers.Dropout(0.3),\n",
        "    tf.keras.layers.Dense(1, activation='sigmoid')\n",
        "])"
      ],
      "metadata": {
        "id": "J16CdZO_PPj9"
      },
      "execution_count": null,
      "outputs": []
    },
    {
      "cell_type": "markdown",
      "source": [
        "Instead of the Adam optimizer, the RMSprop optimizer is chosen due to its adaptive learning rate, stability features that prevent vanishing gradients, and efficient convergence properties."
      ],
      "metadata": {
        "id": "Gbr3CGvwny4T"
      }
    },
    {
      "cell_type": "code",
      "execution_count": null,
      "metadata": {
        "id": "cgztcGsbXOnI",
        "colab": {
          "base_uri": "https://localhost:8080/"
        },
        "outputId": "62c5f035-620b-434d-9e62-da025a2331f5"
      },
      "outputs": [
        {
          "output_type": "stream",
          "name": "stdout",
          "text": [
            "Model: \"sequential\"\n",
            "_________________________________________________________________\n",
            " Layer (type)                Output Shape              Param #   \n",
            "=================================================================\n",
            " text_vectorization (TextVe  (None, None)              0         \n",
            " ctorization)                                                    \n",
            "                                                                 \n",
            " embedding (Embedding)       (None, None, 64)          512000    \n",
            "                                                                 \n",
            " bidirectional (Bidirection  (None, None, 128)         66048     \n",
            " al)                                                             \n",
            "                                                                 \n",
            " global_max_pooling1d (Glob  (None, 128)               0         \n",
            " alMaxPooling1D)                                                 \n",
            "                                                                 \n",
            " dense (Dense)               (None, 64)                8256      \n",
            "                                                                 \n",
            " dropout (Dropout)           (None, 64)                0         \n",
            "                                                                 \n",
            " dense_1 (Dense)             (None, 1)                 65        \n",
            "                                                                 \n",
            "=================================================================\n",
            "Total params: 586369 (2.24 MB)\n",
            "Trainable params: 586369 (2.24 MB)\n",
            "Non-trainable params: 0 (0.00 Byte)\n",
            "_________________________________________________________________\n"
          ]
        }
      ],
      "source": [
        "model.compile(loss=tf.keras.losses.BinaryCrossentropy(),\n",
        "              optimizer=tf.keras.optimizers.RMSprop(1e-3),\n",
        "              metrics=['accuracy'])\n",
        "model.summary()"
      ]
    },
    {
      "cell_type": "markdown",
      "source": [
        "The EarlyStopping callback is important when the model fails to demonstrate performance improvement over a specified number of epochs (in our case its three epochs). In such instances, the execution halts, ensuring that the best weights are retained, preventing unnecessary computational expense."
      ],
      "metadata": {
        "id": "eBeHCbjd-mCK"
      }
    },
    {
      "cell_type": "code",
      "source": [
        "# EarlyStopping callback\n",
        "early_stopping = tf.keras.callbacks.EarlyStopping(\n",
        "    monitor='val_loss',  # Stop training when validation loss does not improve\n",
        "    patience=3,           # Number of epochs with no improvement after which training will be stopped\n",
        "    restore_best_weights=True  # Restore model weights from the epoch with the best value of the monitored quantity\n",
        ")"
      ],
      "metadata": {
        "id": "dTLTeJfTRT3X"
      },
      "execution_count": null,
      "outputs": []
    },
    {
      "cell_type": "markdown",
      "metadata": {
        "id": "9wPS-BD9XH7Q"
      },
      "source": [
        "# Train the model"
      ]
    },
    {
      "cell_type": "code",
      "execution_count": null,
      "metadata": {
        "colab": {
          "base_uri": "https://localhost:8080/"
        },
        "id": "7TItnwKlXJBc",
        "outputId": "f3fc9cdf-b8bc-419f-e3a4-8d06ba3646af"
      },
      "outputs": [
        {
          "output_type": "stream",
          "name": "stdout",
          "text": [
            "Epoch 1/10\n",
            "235/235 [==============================] - 64s 197ms/step - loss: 0.6292 - accuracy: 0.6210 - val_loss: 0.4173 - val_accuracy: 0.8301\n",
            "Epoch 2/10\n",
            "235/235 [==============================] - 31s 132ms/step - loss: 0.3747 - accuracy: 0.8417 - val_loss: 0.4981 - val_accuracy: 0.7945\n",
            "Epoch 3/10\n",
            "235/235 [==============================] - 37s 156ms/step - loss: 0.2684 - accuracy: 0.8959 - val_loss: 0.2902 - val_accuracy: 0.8812\n",
            "Epoch 4/10\n",
            "235/235 [==============================] - 31s 131ms/step - loss: 0.2241 - accuracy: 0.9155 - val_loss: 0.2780 - val_accuracy: 0.8856\n",
            "Epoch 5/10\n",
            "235/235 [==============================] - 27s 111ms/step - loss: 0.1841 - accuracy: 0.9333 - val_loss: 0.3291 - val_accuracy: 0.8652\n",
            "Epoch 6/10\n",
            "235/235 [==============================] - 32s 135ms/step - loss: 0.1583 - accuracy: 0.9432 - val_loss: 0.3007 - val_accuracy: 0.8848\n",
            "Epoch 7/10\n",
            "235/235 [==============================] - 25s 104ms/step - loss: 0.1352 - accuracy: 0.9545 - val_loss: 0.3421 - val_accuracy: 0.8790\n"
          ]
        }
      ],
      "source": [
        "history = model.fit(train_dataset, epochs=10,\n",
        "                    validation_data=validation_dataset,\n",
        "                    callbacks=[early_stopping])"
      ]
    },
    {
      "cell_type": "markdown",
      "source": [
        "As we can see, the execution terminates at epoch 7 due to the model's decreasing performance over the past three epochs. Therefore, the model considers the results from epoch 4. Compared to the original model's results, we have the following:\n",
        "\n",
        "- **The model's performance on the testing set has been improved, thus reducing the validation and testing loss**\n",
        "- **The accuracy on both the training and validation set has also been improved and**\n",
        "- **The training process requires less epochs to achieve a better performace**\n",
        "\n"
      ],
      "metadata": {
        "id": "ClfF1uMaASTs"
      }
    },
    {
      "cell_type": "code",
      "source": [
        "test_loss, test_acc = model.evaluate(test_dataset)\n",
        "\n",
        "print('Test Loss:', test_loss)\n",
        "print('Test Accuracy:', test_acc)"
      ],
      "metadata": {
        "id": "ozHwjq4nntZ5",
        "outputId": "cee1c6dd-893d-4045-f276-8451ba8d90ba",
        "colab": {
          "base_uri": "https://localhost:8080/"
        }
      },
      "execution_count": null,
      "outputs": [
        {
          "output_type": "stream",
          "name": "stdout",
          "text": [
            "391/391 [==============================] - 11s 29ms/step - loss: 0.2872 - accuracy: 0.8809\n",
            "Test Loss: 0.2872490882873535\n",
            "Test Accuracy: 0.8808799982070923\n"
          ]
        }
      ]
    },
    {
      "cell_type": "code",
      "source": [
        "plt.figure(figsize=(16, 8))\n",
        "plt.subplot(1, 2, 1)\n",
        "plot_graphs(history, 'accuracy')\n",
        "plt.ylim(None, 1)\n",
        "plt.subplot(1, 2, 2)\n",
        "plot_graphs(history, 'loss')\n",
        "plt.ylim(0, None)"
      ],
      "metadata": {
        "colab": {
          "base_uri": "https://localhost:8080/",
          "height": 719
        },
        "id": "4XGqk8l5UgXv",
        "outputId": "14a90bc6-e778-4d53-8210-7a1db3d2f5b5"
      },
      "execution_count": null,
      "outputs": [
        {
          "output_type": "execute_result",
          "data": {
            "text/plain": [
              "(0.0, 0.6538766130805016)"
            ]
          },
          "metadata": {},
          "execution_count": 12
        },
        {
          "output_type": "display_data",
          "data": {
            "text/plain": [
              "<Figure size 1600x800 with 2 Axes>"
            ],
            "image/png": "[encoded data removed]"
          },
          "metadata": {}
        }
      ]
    },
    {
      "cell_type": "code",
      "source": [
        "sample_text = ('The movie was cool. The animation and the graphics '\n",
        "               'were out of this world. I would recommend this movie.')\n",
        "predictions = model.predict(np.array([sample_text]))"
      ],
      "metadata": {
        "colab": {
          "base_uri": "https://localhost:8080/"
        },
        "id": "f9PTBoteUVgZ",
        "outputId": "7e0eeed4-8e1a-46da-a39f-6dafdcd64f1b"
      },
      "execution_count": null,
      "outputs": [
        {
          "output_type": "stream",
          "name": "stdout",
          "text": [
            "1/1 [==============================] - 4s 4s/step\n"
          ]
        }
      ]
    },
    {
      "cell_type": "code",
      "source": [
        "sample_text = ('The movie was awful. I did not manage to see all of it.')\n",
        "predictions = model.predict(np.array([sample_text]))\n",
        "print(predictions)"
      ],
      "metadata": {
        "colab": {
          "base_uri": "https://localhost:8080/"
        },
        "id": "Rmfj-iy8893-",
        "outputId": "330b76e1-ce91-4c75-db66-04c7e5afd9c7"
      },
      "execution_count": null,
      "outputs": [
        {
          "output_type": "stream",
          "name": "stdout",
          "text": [
            "1/1 [==============================] - 0s 20ms/step\n",
            "[[0.03723971]]\n"
          ]
        }
      ]
    }
  ],
  "metadata": {
    "colab": {
      "provenance": [],
      "gpuType": "T4",
      "include_colab_link": true
    },
    "kernelspec": {
      "display_name": "Python 3",
      "name": "python3"
    },
    "language_info": {
      "name": "python"
    },
    "accelerator": "GPU"
  },
  "nbformat": 4,
  "nbformat_minor": 0
}